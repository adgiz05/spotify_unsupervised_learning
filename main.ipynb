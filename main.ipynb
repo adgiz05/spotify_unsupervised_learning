{
 "cells": [
  {
   "cell_type": "code",
   "execution_count": 40,
   "metadata": {},
   "outputs": [],
   "source": [
    "#Data analysis & manipulation\n",
    "import pandas as pd\n",
    "from sklearn.decomposition import IncrementalPCA\n",
    "from sklearn.preprocessing import MinMaxScaler\n",
    "from sklearn.preprocessing import StandardScaler\n",
    "\n",
    "#Data computation\n",
    "import numpy as np\n",
    "from sklearn.cluster import AgglomerativeClustering\n",
    "from sklearn.cluster import MiniBatchKMeans\n",
    "from sklearn.mixture import GaussianMixture\n",
    "\n",
    "#Data visualization\n",
    "import matplotlib.pyplot as plt\n",
    "\n",
    "#Model evaluation\n",
    "from sklearn.metrics import silhouette_score\n",
    "from sklearn.metrics import calinski_harabasz_score\n",
    "from sklearn.metrics import davies_bouldin_score\n",
    "\n",
    "#Utils\n",
    "from tqdm import tqdm\n",
    "SEED = 122212112"
   ]
  },
  {
   "cell_type": "code",
   "execution_count": 41,
   "metadata": {},
   "outputs": [
    {
     "data": {
      "text/html": [
       "<div>\n",
       "<style scoped>\n",
       "    .dataframe tbody tr th:only-of-type {\n",
       "        vertical-align: middle;\n",
       "    }\n",
       "\n",
       "    .dataframe tbody tr th {\n",
       "        vertical-align: top;\n",
       "    }\n",
       "\n",
       "    .dataframe thead th {\n",
       "        text-align: right;\n",
       "    }\n",
       "</style>\n",
       "<table border=\"1\" class=\"dataframe\">\n",
       "  <thead>\n",
       "    <tr style=\"text-align: right;\">\n",
       "      <th></th>\n",
       "      <th>genre</th>\n",
       "      <th>artist_name</th>\n",
       "      <th>track_name</th>\n",
       "      <th>track_id</th>\n",
       "      <th>popularity</th>\n",
       "      <th>acousticness</th>\n",
       "      <th>danceability</th>\n",
       "      <th>duration_ms</th>\n",
       "      <th>energy</th>\n",
       "      <th>instrumentalness</th>\n",
       "      <th>key</th>\n",
       "      <th>liveness</th>\n",
       "      <th>loudness</th>\n",
       "      <th>mode</th>\n",
       "      <th>speechiness</th>\n",
       "      <th>tempo</th>\n",
       "      <th>time_signature</th>\n",
       "      <th>valence</th>\n",
       "    </tr>\n",
       "  </thead>\n",
       "  <tbody>\n",
       "    <tr>\n",
       "      <th>0</th>\n",
       "      <td>Anime</td>\n",
       "      <td>Yuki Hayashi</td>\n",
       "      <td>HERO A</td>\n",
       "      <td>6LoC0DAzeIET4iA9gXG2Ly</td>\n",
       "      <td>44</td>\n",
       "      <td>0.02270</td>\n",
       "      <td>0.552</td>\n",
       "      <td>195667</td>\n",
       "      <td>0.958</td>\n",
       "      <td>0.127</td>\n",
       "      <td>F#</td>\n",
       "      <td>0.128</td>\n",
       "      <td>-5.292</td>\n",
       "      <td>Minor</td>\n",
       "      <td>0.0671</td>\n",
       "      <td>120.033</td>\n",
       "      <td>4/4</td>\n",
       "      <td>0.593</td>\n",
       "    </tr>\n",
       "    <tr>\n",
       "      <th>1</th>\n",
       "      <td>Country</td>\n",
       "      <td>Hayes Carll</td>\n",
       "      <td>If I May Be So Bold</td>\n",
       "      <td>6tVvfvsV7aIhTwKGy6c9R7</td>\n",
       "      <td>38</td>\n",
       "      <td>0.15000</td>\n",
       "      <td>0.382</td>\n",
       "      <td>190619</td>\n",
       "      <td>0.742</td>\n",
       "      <td>0.000</td>\n",
       "      <td>A</td>\n",
       "      <td>0.173</td>\n",
       "      <td>-4.857</td>\n",
       "      <td>Major</td>\n",
       "      <td>0.0740</td>\n",
       "      <td>207.540</td>\n",
       "      <td>4/4</td>\n",
       "      <td>0.691</td>\n",
       "    </tr>\n",
       "    <tr>\n",
       "      <th>2</th>\n",
       "      <td>Hip-Hop</td>\n",
       "      <td>Pitbull</td>\n",
       "      <td>Hey Baby (Drop It to the Floor)</td>\n",
       "      <td>3rfhI32Il2hVRKDkuGeeen</td>\n",
       "      <td>63</td>\n",
       "      <td>0.04350</td>\n",
       "      <td>0.595</td>\n",
       "      <td>234453</td>\n",
       "      <td>0.913</td>\n",
       "      <td>0.000</td>\n",
       "      <td>A#</td>\n",
       "      <td>0.259</td>\n",
       "      <td>-3.428</td>\n",
       "      <td>Minor</td>\n",
       "      <td>0.0884</td>\n",
       "      <td>128.021</td>\n",
       "      <td>4/4</td>\n",
       "      <td>0.762</td>\n",
       "    </tr>\n",
       "    <tr>\n",
       "      <th>3</th>\n",
       "      <td>Comedy</td>\n",
       "      <td>Maria Bamford</td>\n",
       "      <td>What I Worship</td>\n",
       "      <td>7JF9TagvvS4GmCB1SHUM38</td>\n",
       "      <td>23</td>\n",
       "      <td>0.71800</td>\n",
       "      <td>0.540</td>\n",
       "      <td>90280</td>\n",
       "      <td>0.847</td>\n",
       "      <td>0.000</td>\n",
       "      <td>F#</td>\n",
       "      <td>0.726</td>\n",
       "      <td>-7.445</td>\n",
       "      <td>Major</td>\n",
       "      <td>0.9410</td>\n",
       "      <td>99.829</td>\n",
       "      <td>4/4</td>\n",
       "      <td>0.489</td>\n",
       "    </tr>\n",
       "    <tr>\n",
       "      <th>4</th>\n",
       "      <td>World</td>\n",
       "      <td>Citipointe Live</td>\n",
       "      <td>The Christ (Live)</td>\n",
       "      <td>4lMGWRMsW0pGsUD4YlHs7k</td>\n",
       "      <td>32</td>\n",
       "      <td>0.00228</td>\n",
       "      <td>0.215</td>\n",
       "      <td>404800</td>\n",
       "      <td>0.457</td>\n",
       "      <td>0.000</td>\n",
       "      <td>G</td>\n",
       "      <td>0.114</td>\n",
       "      <td>-7.137</td>\n",
       "      <td>Major</td>\n",
       "      <td>0.0309</td>\n",
       "      <td>148.773</td>\n",
       "      <td>4/4</td>\n",
       "      <td>0.130</td>\n",
       "    </tr>\n",
       "  </tbody>\n",
       "</table>\n",
       "</div>"
      ],
      "text/plain": [
       "     genre      artist_name                       track_name  \\\n",
       "0    Anime     Yuki Hayashi                           HERO A   \n",
       "1  Country      Hayes Carll              If I May Be So Bold   \n",
       "2  Hip-Hop          Pitbull  Hey Baby (Drop It to the Floor)   \n",
       "3   Comedy    Maria Bamford                   What I Worship   \n",
       "4    World  Citipointe Live                The Christ (Live)   \n",
       "\n",
       "                 track_id  popularity  acousticness  danceability  \\\n",
       "0  6LoC0DAzeIET4iA9gXG2Ly          44       0.02270         0.552   \n",
       "1  6tVvfvsV7aIhTwKGy6c9R7          38       0.15000         0.382   \n",
       "2  3rfhI32Il2hVRKDkuGeeen          63       0.04350         0.595   \n",
       "3  7JF9TagvvS4GmCB1SHUM38          23       0.71800         0.540   \n",
       "4  4lMGWRMsW0pGsUD4YlHs7k          32       0.00228         0.215   \n",
       "\n",
       "   duration_ms  energy  instrumentalness key  liveness  loudness   mode  \\\n",
       "0       195667   0.958             0.127  F#     0.128    -5.292  Minor   \n",
       "1       190619   0.742             0.000   A     0.173    -4.857  Major   \n",
       "2       234453   0.913             0.000  A#     0.259    -3.428  Minor   \n",
       "3        90280   0.847             0.000  F#     0.726    -7.445  Major   \n",
       "4       404800   0.457             0.000   G     0.114    -7.137  Major   \n",
       "\n",
       "   speechiness    tempo time_signature  valence  \n",
       "0       0.0671  120.033            4/4    0.593  \n",
       "1       0.0740  207.540            4/4    0.691  \n",
       "2       0.0884  128.021            4/4    0.762  \n",
       "3       0.9410   99.829            4/4    0.489  \n",
       "4       0.0309  148.773            4/4    0.130  "
      ]
     },
     "execution_count": 41,
     "metadata": {},
     "output_type": "execute_result"
    }
   ],
   "source": [
    "spotify = pd.read_csv('./dataset/spotify_tracks_reduced.csv')\n",
    "spotify.head()"
   ]
  },
  {
   "cell_type": "markdown",
   "metadata": {},
   "source": [
    "We do not want the track_id column"
   ]
  },
  {
   "cell_type": "code",
   "execution_count": 42,
   "metadata": {},
   "outputs": [],
   "source": [
    "spotify.drop(['track_id'], axis=1, inplace=True)"
   ]
  },
  {
   "cell_type": "markdown",
   "metadata": {},
   "source": [
    "Let's transform the categorical into numerical variables"
   ]
  },
  {
   "cell_type": "code",
   "execution_count": 44,
   "metadata": {},
   "outputs": [],
   "source": [
    "#The musical key scale can be represented as an ordinal variable\n",
    "musical_scale = {\n",
    "    'C' :   1.,\n",
    "    'C#':   1.5,\n",
    "    'D' :   2.,\n",
    "    'D#':   2.5,\n",
    "    'E' :   3.,\n",
    "    'F' :   4.,\n",
    "    'F#':   4.5,\n",
    "    'G' :   5.,\n",
    "    'G#':   5.5,\n",
    "    'A' :   6.,\n",
    "    'A#':   6.5,\n",
    "    'B' :   7.\n",
    "}\n",
    "\n",
    "spotify['key'] = spotify['key'].apply(lambda k: musical_scale[k])"
   ]
  },
  {
   "cell_type": "code",
   "execution_count": 45,
   "metadata": {},
   "outputs": [],
   "source": [
    "def dummify(dataset, columns):\n",
    "    for c in columns:\n",
    "        dataset = dataset.join(pd.get_dummies(dataset[c], drop_first=True))\n",
    "        dataset.drop([c], axis=1, inplace=True)\n",
    "\n",
    "    return dataset\n",
    "\n",
    "spotify = dummify(spotify, ['mode', 'time_signature'])"
   ]
  },
  {
   "cell_type": "code",
   "execution_count": 46,
   "metadata": {},
   "outputs": [
    {
     "data": {
      "text/html": [
       "<div>\n",
       "<style scoped>\n",
       "    .dataframe tbody tr th:only-of-type {\n",
       "        vertical-align: middle;\n",
       "    }\n",
       "\n",
       "    .dataframe tbody tr th {\n",
       "        vertical-align: top;\n",
       "    }\n",
       "\n",
       "    .dataframe thead th {\n",
       "        text-align: right;\n",
       "    }\n",
       "</style>\n",
       "<table border=\"1\" class=\"dataframe\">\n",
       "  <thead>\n",
       "    <tr style=\"text-align: right;\">\n",
       "      <th></th>\n",
       "      <th>genre</th>\n",
       "      <th>artist_name</th>\n",
       "      <th>track_name</th>\n",
       "      <th>popularity</th>\n",
       "      <th>acousticness</th>\n",
       "      <th>danceability</th>\n",
       "      <th>duration_ms</th>\n",
       "      <th>energy</th>\n",
       "      <th>instrumentalness</th>\n",
       "      <th>key</th>\n",
       "      <th>liveness</th>\n",
       "      <th>loudness</th>\n",
       "      <th>speechiness</th>\n",
       "      <th>tempo</th>\n",
       "      <th>valence</th>\n",
       "      <th>Minor</th>\n",
       "      <th>1/4</th>\n",
       "      <th>3/4</th>\n",
       "      <th>4/4</th>\n",
       "      <th>5/4</th>\n",
       "    </tr>\n",
       "  </thead>\n",
       "  <tbody>\n",
       "  </tbody>\n",
       "</table>\n",
       "</div>"
      ],
      "text/plain": [
       "Empty DataFrame\n",
       "Columns: [genre, artist_name, track_name, popularity, acousticness, danceability, duration_ms, energy, instrumentalness, key, liveness, loudness, speechiness, tempo, valence, Minor, 1/4, 3/4, 4/4, 5/4]\n",
       "Index: []"
      ]
     },
     "execution_count": 46,
     "metadata": {},
     "output_type": "execute_result"
    }
   ],
   "source": [
    "spotify.head(0)"
   ]
  },
  {
   "cell_type": "code",
   "execution_count": 47,
   "metadata": {},
   "outputs": [],
   "source": [
    "dataset = spotify.loc[:, spotify.columns[3:]]"
   ]
  },
  {
   "cell_type": "markdown",
   "metadata": {},
   "source": [
    "Normalizing the variables"
   ]
  },
  {
   "cell_type": "code",
   "execution_count": 48,
   "metadata": {},
   "outputs": [],
   "source": [
    "scaler = MinMaxScaler().fit(dataset)\n",
    "dataset = scaler.transform(dataset)"
   ]
  },
  {
   "cell_type": "markdown",
   "metadata": {},
   "source": [
    "Defining the metrics function"
   ]
  },
  {
   "cell_type": "code",
   "execution_count": 51,
   "metadata": {},
   "outputs": [],
   "source": [
    "def clustering_metrics(dataset, model_str, range_, plot=False): \n",
    "    elb, sil, c_h, d_b = [], [], [], []\n",
    "\n",
    "    for k in tqdm(range_):\n",
    "        if model_str == 'kmeans': model = MiniBatchKMeans(n_clusters=k, random_state=SEED).fit(dataset)\n",
    "        \n",
    "        centroids = model.cluster_centers_\n",
    "        labels = model.predict(dataset)\n",
    "\n",
    "        #Calculating silhouette, Calinski-Harabasz and Davies-Bouldin metrics\n",
    "        sil.append(silhouette_score(dataset, labels))\n",
    "        c_h.append(calinski_harabasz_score(dataset, labels))\n",
    "        d_b.append(davies_bouldin_score(dataset, labels))\n",
    "\n",
    "        #Calculating shoulder metric\n",
    "        curr_elb = 0\n",
    "        for i in range(len(dataset)):\n",
    "            curr_center = centroids[labels[i]]\n",
    "            curr_elb += (dataset[i, 0] - curr_center[0]) ** 2 + (dataset[i, 1] - curr_center[1]) ** 2\n",
    "\n",
    "        elb.append(curr_elb)\n",
    "\n",
    "    metrics = {\n",
    "        'elbow_score'       : elb,\n",
    "        'silhouette_score'  : sil,\n",
    "        'calinski-harabasz' : c_h,\n",
    "        'davies-bouldin'    : d_b\n",
    "    }\n",
    "\n",
    "    if plot:\n",
    "        plt.figure(figsize=(6, 6))\n",
    "        for i, (title, values) in enumerate(zip(metrics.keys(), metrics.values())):\n",
    "            plt.subplot(2, 2, i+1)\n",
    "            plt.title(title)\n",
    "            plt.plot(range_, values, 'b-')\n",
    "\n",
    "    return metrics"
   ]
  },
  {
   "cell_type": "markdown",
   "metadata": {},
   "source": [
    "# Hierarchical clustering"
   ]
  },
  {
   "cell_type": "code",
   "execution_count": null,
   "metadata": {},
   "outputs": [],
   "source": []
  },
  {
   "cell_type": "markdown",
   "metadata": {},
   "source": [
    "# Partitional clustering"
   ]
  },
  {
   "cell_type": "markdown",
   "metadata": {},
   "source": [
    "Using K-Means, actually MiniBatchKMeans"
   ]
  },
  {
   "cell_type": "code",
   "execution_count": 52,
   "metadata": {},
   "outputs": [
    {
     "name": "stderr",
     "output_type": "stream",
     "text": [
      "100%|██████████| 3/3 [00:04<00:00,  1.53s/it]\n"
     ]
    },
    {
     "data": {
      "image/png": "[encoded data removed]",
      "text/plain": [
       "<Figure size 600x600 with 4 Axes>"
      ]
     },
     "metadata": {},
     "output_type": "display_data"
    }
   ],
   "source": [
    "metrics = clustering_metrics(dataset, 'kmeans', range(2, 5), plot=True)"
   ]
  },
  {
   "cell_type": "markdown",
   "metadata": {},
   "source": [
    "# Probabilistic clustering"
   ]
  },
  {
   "cell_type": "code",
   "execution_count": null,
   "metadata": {},
   "outputs": [],
   "source": []
  }
 ],
 "metadata": {
  "kernelspec": {
   "display_name": "Python 3.9.13 64-bit",
   "language": "python",
   "name": "python3"
  },
  "language_info": {
   "codemirror_mode": {
    "name": "ipython",
    "version": 3
   },
   "file_extension": ".py",
   "mimetype": "text/x-python",
   "name": "python",
   "nbconvert_exporter": "python",
   "pygments_lexer": "ipython3",
   "version": "3.9.13"
  },
  "orig_nbformat": 4,
  "vscode": {
   "interpreter": {
    "hash": "e124a15e0a0586df1fc4fdd210dfcfafbffc0934b455f749c5ad849435c8bbce"
   }
  }
 },
 "nbformat": 4,
 "nbformat_minor": 2
}
